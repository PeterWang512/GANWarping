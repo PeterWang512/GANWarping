{
 "cells": [
  {
   "cell_type": "markdown",
   "id": "74abde14",
   "metadata": {},
   "source": [
    "## Setup"
   ]
  },
  {
   "cell_type": "code",
   "execution_count": null,
   "id": "c2004e5f",
   "metadata": {},
   "outputs": [],
   "source": [
    "import os\n",
    "os.chdir('..')\n",
    "\n",
    "from interface.show import show\n",
    "from interface.warpinterface import WarpInterface\n",
    "\n",
    "\n",
    "# path to the pretrained models\n",
    "model_dict = {\n",
    "    'sg3r_cat': 'pretrained/stylegan3-r-afhqv2cat-512x512.pkl',\n",
    "    'sg3r_dog': 'pretrained/stylegan3-r-afhqv2dog-512x512.pkl',\n",
    "    'sg3r_wild': 'pretrained/stylegan3-r-afhqv2wild-512x512.pkl',\n",
    "    'sg3r_ffhq': 'pretrained/stylegan3-r-ffhq-1024x1024.pkl',\n",
    "    'sg3r_horse': 'pretrained/stylegan3-r-horse-256x256.pkl',\n",
    "    'sg3r_house': 'pretrained/stylegan3-r-house-512x512.pkl',\n",
    "    'sg2_car': 'pretrained/stylegan2-car-config-f.pkl',\n",
    "    'sg2_cat': 'pretrained/stylegan2-afhqcat.pkl',\n",
    "    'sg2_church': 'pretrained/stylegan2-church-config-f.pkl',\n",
    "}\n",
    "\n",
    "# recommended truncation\n",
    "trunc_dict = {\n",
    "    'sg3r_cat': 1.0,\n",
    "    'sg3r_dog': 1.0,\n",
    "    'sg3r_wild': 1.0,\n",
    "    'sg3r_ffhq': 1.0,\n",
    "    'sg3r_horse': 0.5,\n",
    "    'sg3r_house': 0.5,\n",
    "    'sg2_car': 0.5,\n",
    "    'sg2_cat': 1.0,\n",
    "    'sg2_church': 0.5,\n",
    "}"
   ]
  },
  {
   "cell_type": "markdown",
   "id": "14d6f0a7",
   "metadata": {},
   "source": [
    "## Instructions\n",
    "1. In the tab below, set up the models you want to warp.\n",
    "2. Choose a pretrained model: **choices in @param**\n",
    "3. Choose your random seed: **default: 2000**\n",
    "4. Data will be saved into `data/<model>/<data_name>/train`"
   ]
  },
  {
   "cell_type": "code",
   "execution_count": null,
   "id": "1e11c07e",
   "metadata": {},
   "outputs": [],
   "source": [
    "# Type your choices here\n",
    "model = 'sg3r_cat'          #@param['sg3r_cat', 'sg3r_dog', 'sg3r_wild', 'sg3r_ffhq', 'sg3r_horse', 'sg3r_house', 'sg2_car', 'sg2_cat', 'sg2_church']\n",
    "seed = 2000                 #@param {\"type\": \"int\"}\n",
    "data_name = 'your_warp'     #@param {\"type\": \"string\"}\n",
    "\n",
    "\n",
    "# Some setup based on your choices\n",
    "crop_car = model == 'sg2_car'\n",
    "truncation_psi = trunc_dict[model]\n",
    "save_dir = f'data/{model}/{data_name}/train'\n",
    "network_pkl = model_dict[model]\n",
    "directories = ['originals', 'targets', 'latents', 'keypoints']\n",
    "for d in directories:\n",
    "    os.makedirs(os.path.join(save_dir, d), exist_ok=True)"
   ]
  },
  {
   "cell_type": "markdown",
   "id": "3f815f45",
   "metadata": {},
   "source": [
    "### Warping instructions\n",
    "1. Get a mouse. The left image is where you warp, and the right image is the intermediate warping result.\n",
    "2. Select fixed points (in yellow) by clicking on the left image with the middle click (the scroll button)\n",
    "3. After (2), left click and drag to warp the image.\n",
    "4. You should find that the right image will change after you dragged a keypoint.\n",
    "5. Use `undo` button the undo a step, and use `reset` button to clear all keypoints.\n",
    "6. If the image is not suitable for your warp or does not look good, click the `skip` button to skip.\n",
    "7. If you finish your warp on an image, click `save`, `refresh` then `reset`.\n",
    "   (You don't need to click `refresh` for the last image you warped)\n",
    "\n",
    "**Note: for efficiency purposes, after clicking a fixed point (yellow), the right image will NOT update according (lazy operation). So it's better to select all fixed points before you start warping your images.**"
   ]
  },
  {
   "cell_type": "code",
   "execution_count": null,
   "id": "e8b68685",
   "metadata": {},
   "outputs": [],
   "source": [
    "warp_app = WarpInterface(network_pkl, truncation_psi, seed, save_dir, crop_car=crop_car)\n",
    "warp_app.display()"
   ]
  },
  {
   "cell_type": "code",
   "execution_count": null,
   "id": "40f3b431",
   "metadata": {},
   "outputs": [],
   "source": []
  }
 ],
 "metadata": {
  "kernelspec": {
   "display_name": "Python 3",
   "language": "python",
   "name": "python3"
  },
  "language_info": {
   "codemirror_mode": {
    "name": "ipython",
    "version": 3
   },
   "file_extension": ".py",
   "mimetype": "text/x-python",
   "name": "python",
   "nbconvert_exporter": "python",
   "pygments_lexer": "ipython3",
   "version": "3.8.8"
  }
 },
 "nbformat": 4,
 "nbformat_minor": 5
}
