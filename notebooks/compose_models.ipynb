{
 "cells": [
  {
   "cell_type": "code",
   "execution_count": null,
   "id": "ba9d4cdb",
   "metadata": {},
   "outputs": [],
   "source": [
    "import os\n",
    "os.chdir('..')\n",
    "\n",
    "from interface.show import show\n",
    "from interface.interface import GANWarpingApp"
   ]
  },
  {
   "cell_type": "code",
   "execution_count": null,
   "id": "3b8109e1",
   "metadata": {},
   "outputs": [],
   "source": [
    "modelbase = 'pretrained/stylegan3-r-afhqv2cat-512x512.pkl'\n",
    "modeldir = './weights/sg3r_cat'\n",
    "app = GANWarpingApp(modelbase, modeldir, num_pages=3, trunc=0.7)\n",
    "show(app)"
   ]
  },
  {
   "cell_type": "code",
   "execution_count": null,
   "id": "e96362d5",
   "metadata": {},
   "outputs": [],
   "source": [
    "modelbase = 'pretrained/stylegan3-r-horse-256x256.pkl'\n",
    "modeldir = './weights/sg3r_horse'\n",
    "\n",
    "app = GANWarpingApp(modelbase, modeldir, trunc=0.3, icon_seed=1600)\n",
    "show(app)"
   ]
  },
  {
   "cell_type": "code",
   "execution_count": null,
   "id": "d87d624b",
   "metadata": {},
   "outputs": [],
   "source": [
    "modelbase = 'pretrained/stylegan3-r-house-512x512.pkl'\n",
    "modeldir = './weights/sg3r_house'\n",
    "app = GANWarpingApp(modelbase, modeldir, trunc=0.5, icon_seed=9487)\n",
    "show(app)"
   ]
  }
 ],
 "metadata": {
  "kernelspec": {
   "display_name": "Python 3",
   "language": "python",
   "name": "python3"
  },
  "language_info": {
   "codemirror_mode": {
    "name": "ipython",
    "version": 3
   },
   "file_extension": ".py",
   "mimetype": "text/x-python",
   "name": "python",
   "nbconvert_exporter": "python",
   "pygments_lexer": "ipython3",
   "version": "3.8.8"
  }
 },
 "nbformat": 4,
 "nbformat_minor": 5
}
